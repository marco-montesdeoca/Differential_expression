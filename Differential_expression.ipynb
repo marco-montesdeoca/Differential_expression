{
  "nbformat": 4,
  "nbformat_minor": 0,
  "metadata": {
    "colab": {
      "provenance": [],
      "include_colab_link": true
    },
    "kernelspec": {
      "name": "ir",
      "display_name": "R"
    },
    "language_info": {
      "name": "R"
    }
  },
  "cells": [
    {
      "cell_type": "markdown",
      "metadata": {
        "id": "view-in-github",
        "colab_type": "text"
      },
      "source": [
        "<a href=\"https://colab.research.google.com/github/marco-montesdeoca/Differential_expression/blob/main/Differential_expression.ipynb\" target=\"_parent\"><img src=\"https://colab.research.google.com/assets/colab-badge.svg\" alt=\"Open In Colab\"/></a>"
      ]
    },
    {
      "cell_type": "markdown",
      "metadata": {
        "id": "E8YtjlGl3ZN7"
      },
      "source": [
        "## Differential expression analysis of K. pneumoniae <br>\n",
        "In this notebook we will analyze RNAseq reads obtained from the pathogenic bacterium K. pneumoniae from [this project](https://www.ncbi.nlm.nih.gov/bioproject/PRJNA548557). A subsample of these reads have already been processed as follows: <br>\n",
        "1. Reads mapping to reference genome \n",
        "2. Sort mapped reads by genomic position\n",
        "3. Count the number of reads corresponding to each gene\n"
      ]
    },
    {
      "cell_type": "markdown",
      "source": [
        "This notebook focuses on statistical analysis (differential expression)."
      ],
      "metadata": {
        "id": "HbldBCIvPTdP"
      }
    },
    {
      "cell_type": "markdown",
      "metadata": {
        "id": "lSzIslD5m7MP"
      },
      "source": [
        "### Install required packages <br>\n",
        "For differential expression analysis we will use the [DESeq2](http://bioconductor.org/packages/release/bioc/vignettes/DESeq2/inst/doc/DESeq2.html) tool."
      ]
    },
    {
      "cell_type": "code",
      "metadata": {
        "id": "4R6jvsOfrBlX",
        "colab": {
          "base_uri": "https://localhost:8080/"
        },
        "outputId": "6e24818f-54b9-40b9-b683-2a749f10d274"
      },
      "source": [
        "if (!requireNamespace(\"BiocManager\", quietly = TRUE))\n",
        "    install.packages(\"BiocManager\")\n",
        "\n",
        "BiocManager::install(\"DESeq2\")"
      ],
      "execution_count": 5,
      "outputs": [
        {
          "output_type": "stream",
          "name": "stderr",
          "text": [
            "Installing package into ‘/usr/local/lib/R/site-library’\n",
            "(as ‘lib’ is unspecified)\n",
            "\n",
            "'getOption(\"repos\")' replaces Bioconductor standard repositories, see\n",
            "'help(\"repositories\", package = \"BiocManager\")' for details.\n",
            "Replacement repositories:\n",
            "    CRAN: https://cran.rstudio.com\n",
            "\n",
            "Bioconductor version 3.16 (BiocManager 1.30.20), R 4.2.3 (2023-03-15)\n",
            "\n",
            "Installing package(s) 'BiocVersion', 'DESeq2'\n",
            "\n",
            "also installing the dependencies ‘bitops’, ‘formatR’, ‘plogr’, ‘png’, ‘Biostrings’, ‘RCurl’, ‘GenomeInfoDbData’, ‘zlibbioc’, ‘lambda.r’, ‘futile.options’, ‘XML’, ‘xtable’, ‘RSQLite’, ‘KEGGREST’, ‘GenomeInfoDb’, ‘XVector’, ‘MatrixGenerics’, ‘DelayedArray’, ‘futile.logger’, ‘snow’, ‘BH’, ‘annotate’, ‘AnnotationDbi’, ‘S4Vectors’, ‘IRanges’, ‘GenomicRanges’, ‘SummarizedExperiment’, ‘BiocGenerics’, ‘Biobase’, ‘BiocParallel’, ‘matrixStats’, ‘locfit’, ‘geneplotter’, ‘Rcpp’, ‘RcppArmadillo’\n",
            "\n",
            "\n",
            "Old packages: 'bit', 'bslib', 'devtools', 'digest', 'gert', 'ggplot2', 'highr',\n",
            "  'isoband', 'jsonlite', 'pkgload', 'ps', 'rmarkdown', 'roxygen2', 'stringr',\n",
            "  'tidyverse', 'whisker', 'boot', 'foreign', 'lattice', 'Matrix'\n",
            "\n"
          ]
        }
      ]
    },
    {
      "cell_type": "code",
      "metadata": {
        "colab": {
          "base_uri": "https://localhost:8080/"
        },
        "id": "R6kNHZ6sarLA",
        "outputId": "7f694a08-5658-46a2-dbee-67f9a8166477"
      },
      "source": [
        "# This cell installs a tool used during the generation of volcano plots\n",
        "install.packages(\"ggrepel\")"
      ],
      "execution_count": 6,
      "outputs": [
        {
          "output_type": "stream",
          "name": "stderr",
          "text": [
            "Installing package into ‘/usr/local/lib/R/site-library’\n",
            "(as ‘lib’ is unspecified)\n",
            "\n"
          ]
        }
      ]
    },
    {
      "cell_type": "code",
      "metadata": {
        "id": "DJZ0i7LWy3aA",
        "colab": {
          "base_uri": "https://localhost:8080/"
        },
        "outputId": "2fb610bd-0c5d-4d84-e9de-62c8d7feca19"
      },
      "source": [
        "library(\"DESeq2\")"
      ],
      "execution_count": 7,
      "outputs": [
        {
          "output_type": "stream",
          "name": "stderr",
          "text": [
            "Loading required package: S4Vectors\n",
            "\n",
            "Loading required package: stats4\n",
            "\n",
            "Loading required package: BiocGenerics\n",
            "\n",
            "\n",
            "Attaching package: ‘BiocGenerics’\n",
            "\n",
            "\n",
            "The following objects are masked from ‘package:stats’:\n",
            "\n",
            "    IQR, mad, sd, var, xtabs\n",
            "\n",
            "\n",
            "The following objects are masked from ‘package:base’:\n",
            "\n",
            "    anyDuplicated, aperm, append, as.data.frame, basename, cbind,\n",
            "    colnames, dirname, do.call, duplicated, eval, evalq, Filter, Find,\n",
            "    get, grep, grepl, intersect, is.unsorted, lapply, Map, mapply,\n",
            "    match, mget, order, paste, pmax, pmax.int, pmin, pmin.int,\n",
            "    Position, rank, rbind, Reduce, rownames, sapply, setdiff, sort,\n",
            "    table, tapply, union, unique, unsplit, which.max, which.min\n",
            "\n",
            "\n",
            "\n",
            "Attaching package: ‘S4Vectors’\n",
            "\n",
            "\n",
            "The following objects are masked from ‘package:base’:\n",
            "\n",
            "    expand.grid, I, unname\n",
            "\n",
            "\n",
            "Loading required package: IRanges\n",
            "\n",
            "Loading required package: GenomicRanges\n",
            "\n",
            "Loading required package: GenomeInfoDb\n",
            "\n",
            "Loading required package: SummarizedExperiment\n",
            "\n",
            "Loading required package: MatrixGenerics\n",
            "\n",
            "Loading required package: matrixStats\n",
            "\n",
            "\n",
            "Attaching package: ‘MatrixGenerics’\n",
            "\n",
            "\n",
            "The following objects are masked from ‘package:matrixStats’:\n",
            "\n",
            "    colAlls, colAnyNAs, colAnys, colAvgsPerRowSet, colCollapse,\n",
            "    colCounts, colCummaxs, colCummins, colCumprods, colCumsums,\n",
            "    colDiffs, colIQRDiffs, colIQRs, colLogSumExps, colMadDiffs,\n",
            "    colMads, colMaxs, colMeans2, colMedians, colMins, colOrderStats,\n",
            "    colProds, colQuantiles, colRanges, colRanks, colSdDiffs, colSds,\n",
            "    colSums2, colTabulates, colVarDiffs, colVars, colWeightedMads,\n",
            "    colWeightedMeans, colWeightedMedians, colWeightedSds,\n",
            "    colWeightedVars, rowAlls, rowAnyNAs, rowAnys, rowAvgsPerColSet,\n",
            "    rowCollapse, rowCounts, rowCummaxs, rowCummins, rowCumprods,\n",
            "    rowCumsums, rowDiffs, rowIQRDiffs, rowIQRs, rowLogSumExps,\n",
            "    rowMadDiffs, rowMads, rowMaxs, rowMeans2, rowMedians, rowMins,\n",
            "    rowOrderStats, rowProds, rowQuantiles, rowRanges, rowRanks,\n",
            "    rowSdDiffs, rowSds, rowSums2, rowTabulates, rowVarDiffs, rowVars,\n",
            "    rowWeightedMads, rowWeightedMeans, rowWeightedMedians,\n",
            "    rowWeightedSds, rowWeightedVars\n",
            "\n",
            "\n",
            "Loading required package: Biobase\n",
            "\n",
            "Welcome to Bioconductor\n",
            "\n",
            "    Vignettes contain introductory material; view with\n",
            "    'browseVignettes()'. To cite Bioconductor, see\n",
            "    'citation(\"Biobase\")', and for packages 'citation(\"pkgname\")'.\n",
            "\n",
            "\n",
            "\n",
            "Attaching package: ‘Biobase’\n",
            "\n",
            "\n",
            "The following object is masked from ‘package:MatrixGenerics’:\n",
            "\n",
            "    rowMedians\n",
            "\n",
            "\n",
            "The following objects are masked from ‘package:matrixStats’:\n",
            "\n",
            "    anyMissing, rowMedians\n",
            "\n",
            "\n"
          ]
        }
      ]
    },
    {
      "cell_type": "markdown",
      "metadata": {
        "id": "Nczri5JpoFiP"
      },
      "source": [
        "### Data <br>\n",
        "The following links can be used to get and upload to this colab session the reads count data, as well as the metadata indicating the condition of each sample. We also get the names of the genes as a summary table, generated from the gff genome annotation file. <br>\n",
        "1. https://github.com/marco-montesdeoca/Differential_expression/raw/main/counts_re.csv\n",
        "2. https://github.com/marco-montesdeoca/Differential_expression/raw/main/coldata.csv\n",
        "3. https://github.com/marco-montesdeoca/Differential_expression/raw/main/names_genes.csv\n"
      ]
    },
    {
      "cell_type": "markdown",
      "source": [
        "Once the files are uploaded, we can continue with the analysis."
      ],
      "metadata": {
        "id": "NDKxUE1OTXHQ"
      }
    },
    {
      "cell_type": "markdown",
      "metadata": {
        "id": "u2UlsnQXqq_n"
      },
      "source": [
        "### Statistical analysis (differential expression)<br>"
      ]
    },
    {
      "cell_type": "code",
      "metadata": {
        "colab": {
          "base_uri": "https://localhost:8080/",
          "height": 255
        },
        "id": "hzOrkqRny5bx",
        "outputId": "51479ce1-4a1d-4206-a4a1-25d46c946f8d"
      },
      "source": [
        "cts <- as.matrix(read.csv('counts_re.csv',row.names=1, sep = \"\\t\"))\n",
        "head(cts)"
      ],
      "execution_count": 8,
      "outputs": [
        {
          "output_type": "display_data",
          "data": {
            "text/html": [
              "<table class=\"dataframe\">\n",
              "<caption>A matrix: 6 × 6 of type int</caption>\n",
              "<thead>\n",
              "\t<tr><th></th><th scope=col>PBT2R1</th><th scope=col>PBT2R2</th><th scope=col>PBT2R3</th><th scope=col>Ctrl1</th><th scope=col>Ctrl2</th><th scope=col>Ctrl3</th></tr>\n",
              "</thead>\n",
              "<tbody>\n",
              "\t<tr><th scope=row>gene-KPHS_00010</th><td> 0</td><td> 3</td><td> 2</td><td> 3</td><td> 4</td><td> 4</td></tr>\n",
              "\t<tr><th scope=row>gene-KPHS_00020</th><td> 1</td><td> 2</td><td> 1</td><td> 1</td><td> 1</td><td> 0</td></tr>\n",
              "\t<tr><th scope=row>gene-KPHS_00030</th><td>12</td><td>17</td><td>15</td><td>13</td><td>11</td><td>12</td></tr>\n",
              "\t<tr><th scope=row>gene-KPHS_00040</th><td> 2</td><td> 2</td><td> 1</td><td> 1</td><td> 4</td><td> 2</td></tr>\n",
              "\t<tr><th scope=row>gene-KPHS_00050</th><td> 3</td><td> 5</td><td> 4</td><td> 4</td><td> 5</td><td> 7</td></tr>\n",
              "\t<tr><th scope=row>gene-KPHS_00060</th><td> 0</td><td> 1</td><td> 3</td><td> 3</td><td> 5</td><td>10</td></tr>\n",
              "</tbody>\n",
              "</table>\n"
            ],
            "text/markdown": "\nA matrix: 6 × 6 of type int\n\n| <!--/--> | PBT2R1 | PBT2R2 | PBT2R3 | Ctrl1 | Ctrl2 | Ctrl3 |\n|---|---|---|---|---|---|---|\n| gene-KPHS_00010 |  0 |  3 |  2 |  3 |  4 |  4 |\n| gene-KPHS_00020 |  1 |  2 |  1 |  1 |  1 |  0 |\n| gene-KPHS_00030 | 12 | 17 | 15 | 13 | 11 | 12 |\n| gene-KPHS_00040 |  2 |  2 |  1 |  1 |  4 |  2 |\n| gene-KPHS_00050 |  3 |  5 |  4 |  4 |  5 |  7 |\n| gene-KPHS_00060 |  0 |  1 |  3 |  3 |  5 | 10 |\n\n",
            "text/latex": "A matrix: 6 × 6 of type int\n\\begin{tabular}{r|llllll}\n  & PBT2R1 & PBT2R2 & PBT2R3 & Ctrl1 & Ctrl2 & Ctrl3\\\\\n\\hline\n\tgene-KPHS\\_00010 &  0 &  3 &  2 &  3 &  4 &  4\\\\\n\tgene-KPHS\\_00020 &  1 &  2 &  1 &  1 &  1 &  0\\\\\n\tgene-KPHS\\_00030 & 12 & 17 & 15 & 13 & 11 & 12\\\\\n\tgene-KPHS\\_00040 &  2 &  2 &  1 &  1 &  4 &  2\\\\\n\tgene-KPHS\\_00050 &  3 &  5 &  4 &  4 &  5 &  7\\\\\n\tgene-KPHS\\_00060 &  0 &  1 &  3 &  3 &  5 & 10\\\\\n\\end{tabular}\n",
            "text/plain": [
              "                PBT2R1 PBT2R2 PBT2R3 Ctrl1 Ctrl2 Ctrl3\n",
              "gene-KPHS_00010  0      3      2      3     4     4   \n",
              "gene-KPHS_00020  1      2      1      1     1     0   \n",
              "gene-KPHS_00030 12     17     15     13    11    12   \n",
              "gene-KPHS_00040  2      2      1      1     4     2   \n",
              "gene-KPHS_00050  3      5      4      4     5     7   \n",
              "gene-KPHS_00060  0      1      3      3     5    10   "
            ]
          },
          "metadata": {}
        }
      ]
    },
    {
      "cell_type": "markdown",
      "metadata": {
        "id": "7DIn0FVFq7rY"
      },
      "source": [
        "We see that it is a table where the first column indicates the accession of the gene (this will be corrected soon). The following columns indicate the count of readings for each sample. The first three samples are replicates of the **PBT2** treatment condition, and the last three samples are replicates of the **control** condition. <br>\n",
        "<br>\n",
        "Now we open the metadata table, used to indicate which condition each sample corresponds to:"
      ]
    },
    {
      "cell_type": "code",
      "metadata": {
        "colab": {
          "base_uri": "https://localhost:8080/",
          "height": 286
        },
        "id": "LF1ZVxLytLgU",
        "outputId": "c4db2162-6251-430b-e661-1182d20bdfed"
      },
      "source": [
        "coldata <- read.csv('coldata.csv', row.names=1)\n",
        "coldata"
      ],
      "execution_count": 9,
      "outputs": [
        {
          "output_type": "display_data",
          "data": {
            "text/html": [
              "<table class=\"dataframe\">\n",
              "<caption>A data.frame: 6 × 1</caption>\n",
              "<thead>\n",
              "\t<tr><th></th><th scope=col>condition</th></tr>\n",
              "\t<tr><th></th><th scope=col>&lt;chr&gt;</th></tr>\n",
              "</thead>\n",
              "<tbody>\n",
              "\t<tr><th scope=row>PBT2R1</th><td>PBT2</td></tr>\n",
              "\t<tr><th scope=row>PBT2R2</th><td>PBT2</td></tr>\n",
              "\t<tr><th scope=row>PBT2R3</th><td>PBT2</td></tr>\n",
              "\t<tr><th scope=row>Ctrl1</th><td>Ctrl</td></tr>\n",
              "\t<tr><th scope=row>Ctrl2</th><td>Ctrl</td></tr>\n",
              "\t<tr><th scope=row>Ctrl3</th><td>Ctrl</td></tr>\n",
              "</tbody>\n",
              "</table>\n"
            ],
            "text/markdown": "\nA data.frame: 6 × 1\n\n| <!--/--> | condition &lt;chr&gt; |\n|---|---|\n| PBT2R1 | PBT2 |\n| PBT2R2 | PBT2 |\n| PBT2R3 | PBT2 |\n| Ctrl1 | Ctrl |\n| Ctrl2 | Ctrl |\n| Ctrl3 | Ctrl |\n\n",
            "text/latex": "A data.frame: 6 × 1\n\\begin{tabular}{r|l}\n  & condition\\\\\n  & <chr>\\\\\n\\hline\n\tPBT2R1 & PBT2\\\\\n\tPBT2R2 & PBT2\\\\\n\tPBT2R3 & PBT2\\\\\n\tCtrl1 & Ctrl\\\\\n\tCtrl2 & Ctrl\\\\\n\tCtrl3 & Ctrl\\\\\n\\end{tabular}\n",
            "text/plain": [
              "       condition\n",
              "PBT2R1 PBT2     \n",
              "PBT2R2 PBT2     \n",
              "PBT2R3 PBT2     \n",
              "Ctrl1  Ctrl     \n",
              "Ctrl2  Ctrl     \n",
              "Ctrl3  Ctrl     "
            ]
          },
          "metadata": {}
        }
      ]
    },
    {
      "cell_type": "markdown",
      "metadata": {
        "id": "LasHgSPeuMbs"
      },
      "source": [
        "The read count table and metadata can be summarized in a single object, which will then be used by DESeq2:"
      ]
    },
    {
      "cell_type": "code",
      "metadata": {
        "colab": {
          "base_uri": "https://localhost:8080/"
        },
        "id": "0wgvFj4gt0-d",
        "outputId": "c1e9c3be-c2d9-4372-9ad7-805e8526fdd0"
      },
      "source": [
        "dds <- DESeqDataSetFromMatrix(countData = cts,\n",
        "                              colData = coldata,\n",
        "                              design = ~ condition)"
      ],
      "execution_count": 10,
      "outputs": [
        {
          "output_type": "stream",
          "name": "stderr",
          "text": [
            "Warning message in DESeqDataSet(se, design = design, ignoreRank):\n",
            "“some variables in design formula are characters, converting to factors”\n"
          ]
        }
      ]
    },
    {
      "cell_type": "markdown",
      "metadata": {
        "id": "t3Fq9uiL0wjl"
      },
      "source": [
        "We must eliminate the rows that have less than 10 accounts, and normalize the data."
      ]
    },
    {
      "cell_type": "code",
      "metadata": {
        "id": "XdW6CqXaxCwL"
      },
      "source": [
        "keep <- rowSums(counts(dds)) >= 10\n",
        "dds <- dds[keep,]"
      ],
      "execution_count": 11,
      "outputs": []
    },
    {
      "cell_type": "code",
      "metadata": {
        "id": "u9uDEuUNxFD6"
      },
      "source": [
        "dds <- estimateSizeFactors(dds)\n",
        "norm <- counts(dds, normalized = TRUE)"
      ],
      "execution_count": 12,
      "outputs": []
    },
    {
      "cell_type": "markdown",
      "metadata": {
        "id": "aMlL_rtG1bj7"
      },
      "source": [
        "Next we perform the differential expression analysis:"
      ]
    },
    {
      "cell_type": "code",
      "metadata": {
        "colab": {
          "base_uri": "https://localhost:8080/"
        },
        "id": "_vZkzeZd1eqU",
        "outputId": "502c8944-2349-4b2e-ef9b-e84be09ec1b7"
      },
      "source": [
        "dds_res <- DESeq(dds)\n",
        "res <- results(dds_res, contrast=c(\"condition\",\"PBT2\",\"Ctrl\"))"
      ],
      "execution_count": 13,
      "outputs": [
        {
          "output_type": "stream",
          "name": "stderr",
          "text": [
            "using pre-existing size factors\n",
            "\n",
            "estimating dispersions\n",
            "\n",
            "gene-wise dispersion estimates\n",
            "\n",
            "mean-dispersion relationship\n",
            "\n",
            "final dispersion estimates\n",
            "\n",
            "fitting model and testing\n",
            "\n"
          ]
        }
      ]
    },
    {
      "cell_type": "code",
      "metadata": {
        "id": "68j8NFFg10BE"
      },
      "source": [
        "# This cell orders the results by p-value.\n",
        "res_ordered <- res[order(res$pvalue),]"
      ],
      "execution_count": 14,
      "outputs": []
    },
    {
      "cell_type": "markdown",
      "metadata": {
        "id": "iba9bxM82Nag"
      },
      "source": [
        "The following cell shows the first six rows of the results ordered by p-value:"
      ]
    },
    {
      "cell_type": "code",
      "metadata": {
        "colab": {
          "base_uri": "https://localhost:8080/",
          "height": 353
        },
        "id": "ZpuyB0sy1rYN",
        "outputId": "08296450-2e50-42ca-93ae-1f814c5f1607"
      },
      "source": [
        "head(res_ordered)"
      ],
      "execution_count": 15,
      "outputs": [
        {
          "output_type": "display_data",
          "data": {
            "text/plain": [
              "log2 fold change (MLE): condition PBT2 vs Ctrl \n",
              "Wald test p-value: condition PBT2 vs Ctrl \n",
              "DataFrame with 6 rows and 6 columns\n",
              "                 baseMean log2FoldChange     lfcSE      stat      pvalue\n",
              "                <numeric>      <numeric> <numeric> <numeric>   <numeric>\n",
              "gene-KPHS_49890   28.9981       4.217750  0.565029   7.46466 8.35165e-14\n",
              "gene-KPHS_02190  185.7702      -1.170998  0.171707  -6.81977 9.11892e-12\n",
              "gene-KPHS_06220   20.7999       2.330551  0.477360   4.88217 1.04927e-06\n",
              "gene-KPHS_16760  106.3058      -0.979530  0.209781  -4.66929 3.02241e-06\n",
              "gene-KPHS_51400   56.2783      -1.043353  0.261421  -3.99109 6.57711e-05\n",
              "gene-KPHS_15720  129.4788       0.671289  0.186475   3.59988 3.18361e-04\n",
              "                       padj\n",
              "                  <numeric>\n",
              "gene-KPHS_49890 2.73934e-11\n",
              "gene-KPHS_02190 1.49550e-09\n",
              "gene-KPHS_06220 1.14720e-04\n",
              "gene-KPHS_16760 2.47838e-04\n",
              "gene-KPHS_51400 4.31458e-03\n",
              "gene-KPHS_15720 1.74037e-02"
            ]
          },
          "metadata": {}
        }
      ]
    },
    {
      "cell_type": "markdown",
      "metadata": {
        "id": "JMqJajLDjLRz"
      },
      "source": [
        "To identify gene names with significant expression changes, we'll use the names_genes.csv table that includes their names. This table was obtained from the GFF genome annotation files."
      ]
    },
    {
      "cell_type": "code",
      "metadata": {
        "id": "_o_DDTsqQaKv"
      },
      "source": [
        "results = list(gene = rownames(res),\n",
        "                  log2FC = res$log2FoldChange,\n",
        "                  nlogp = -log10(res$pvalue))\n",
        "results = as.data.frame(results)"
      ],
      "execution_count": 16,
      "outputs": []
    },
    {
      "cell_type": "code",
      "metadata": {
        "id": "hHjv47VGll1O"
      },
      "source": [
        "names <- read.csv('names_genes.csv')\n",
        "for (row in 1:nrow(results)) {\n",
        "  id_ = results[row, \"gene\"]\n",
        "  gene = names$gene[names$ID == id_]\n",
        "  results[row, 'gene'] = gene\n",
        "}"
      ],
      "execution_count": 17,
      "outputs": []
    },
    {
      "cell_type": "markdown",
      "metadata": {
        "id": "x0i7KU7q-zch"
      },
      "source": [
        "Finally, we can represent the differential expression results in a Volcano plot:"
      ]
    },
    {
      "cell_type": "code",
      "metadata": {
        "colab": {
          "base_uri": "https://localhost:8080/",
          "height": 437
        },
        "id": "9aBJZEKxZlpM",
        "outputId": "ebe4eedf-8a01-4c5e-cd69-3b54091c1c29"
      },
      "source": [
        "library('ggplot2')\n",
        "library('ggrepel')\n",
        "results$significant <- ifelse(results$nlogp >= 5, \"-log10(p-valor)\", \"No Sig\")\n",
        "plot = ggplot(results, aes(x = log2FC, y = nlogp)) +\n",
        "  geom_point(aes(color = significant)) +\n",
        "  scale_color_manual(values = c(\"red\", \"black\")) +\n",
        "  theme_bw(base_size = 12) + theme(legend.position = \"bottom\") +\n",
        "  geom_text_repel(\n",
        "    data = subset(results, nlogp >= 5),\n",
        "    aes(label = gene),\n",
        "    size = 5,\n",
        "    box.padding = unit(0.35, \"lines\"),\n",
        "    point.padding = unit(0.3, \"lines\")\n",
        "  )\n",
        "plot + labs(x = \"log2 (Fold Change)\", y = \"-log10 (p-valor)\") + geom_vline(xintercept = -1, linetype=\"dotdash\") + geom_vline(xintercept = 1, linetype=\"dotdash\")"
      ],
      "execution_count": 18,
      "outputs": [
        {
          "output_type": "display_data",
          "data": {
            "text/plain": [
              "plot without title"
            ],
            "image/png": "[encoded data removed]"
          },
          "metadata": {
            "image/png": {
              "width": 420,
              "height": 420
            }
          }
        }
      ]
    },
    {
      "cell_type": "markdown",
      "metadata": {
        "id": "plKbt1a1wH6D"
      },
      "source": [
        "From the **Volcano plot**, and considering that the **ratio of change** used in the differential expression analysis is equal to (Treatment Condition / Control Condition), <br>\n",
        "1. The heavy-metal transporting ATPase ZntA and carbon starvation protein genes have a significant increase in expression (in the treatment condition compared to the control).\n",
        "2. The transcriptional regulator HU subunit alpha and outer membrane protein X genes have a significant decrease (in the treatment condition compared to the control)."
      ]
    },
    {
      "cell_type": "markdown",
      "source": [
        "We must remember that these results come from a subsample of the original reads."
      ],
      "metadata": {
        "id": "LcbEMzu8X3_k"
      }
    },
    {
      "cell_type": "code",
      "source": [],
      "metadata": {
        "id": "9YwpUS22YAFD"
      },
      "execution_count": null,
      "outputs": []
    }
  ]
}